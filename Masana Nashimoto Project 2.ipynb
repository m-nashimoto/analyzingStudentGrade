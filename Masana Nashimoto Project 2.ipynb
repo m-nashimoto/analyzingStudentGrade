{
 "cells": [
  {
   "cell_type": "markdown",
   "id": "809b70f2",
   "metadata": {},
   "source": [
    "# Masana Nashimoto Project 2"
   ]
  },
  {
   "cell_type": "markdown",
   "id": "2e91aabb",
   "metadata": {},
   "source": [
    "For this project, I have decided to analyze the statistic of students' performance in exams especially what determines the students' test score.<br>\n",
    "I have extracted the data set from Kaggle, more information can be accessed from below.<br><br>\n",
    "<a href=\"https://www.kaggle.com/datasets/whenamancodes/students-performance-in-exams\"> https://www.kaggle.com/datasets/whenamancodes/students-performance-in-exams </a>"
   ]
  },
  {
   "cell_type": "code",
   "execution_count": 1,
   "id": "f4493ac7",
   "metadata": {},
   "outputs": [],
   "source": [
    "#First thing first: Import necesasry library\n",
    "import pandas as pd\n",
    "import numpy as np\n",
    "import matplotlib.pyplot as plt\n",
    "import seaborn as sns\n",
    "# importing warnings to ignore warning code\n",
    "import warnings\n",
    "warnings.filterwarnings('ignore')"
   ]
  },
  {
   "cell_type": "code",
   "execution_count": 2,
   "id": "aecc920e",
   "metadata": {},
   "outputs": [],
   "source": [
    "#importing csv\n",
    "df = pd.read_csv(\"/Users/spoon/Personal-Files/ASU/Fall 2022/DAT 301/Project 2/exams.csv\")"
   ]
  },
  {
   "cell_type": "markdown",
   "id": "ab97e91d",
   "metadata": {},
   "source": [
    "## Overview of ths dataset"
   ]
  },
  {
   "cell_type": "code",
   "execution_count": 3,
   "id": "756fe914",
   "metadata": {},
   "outputs": [
    {
     "data": {
      "text/html": [
       "<div>\n",
       "<style scoped>\n",
       "    .dataframe tbody tr th:only-of-type {\n",
       "        vertical-align: middle;\n",
       "    }\n",
       "\n",
       "    .dataframe tbody tr th {\n",
       "        vertical-align: top;\n",
       "    }\n",
       "\n",
       "    .dataframe thead th {\n",
       "        text-align: right;\n",
       "    }\n",
       "</style>\n",
       "<table border=\"1\" class=\"dataframe\">\n",
       "  <thead>\n",
       "    <tr style=\"text-align: right;\">\n",
       "      <th></th>\n",
       "      <th>gender</th>\n",
       "      <th>race/ethnicity</th>\n",
       "      <th>parental level of education</th>\n",
       "      <th>lunch</th>\n",
       "      <th>test preparation course</th>\n",
       "      <th>math score</th>\n",
       "      <th>reading score</th>\n",
       "      <th>writing score</th>\n",
       "    </tr>\n",
       "  </thead>\n",
       "  <tbody>\n",
       "    <tr>\n",
       "      <th>0</th>\n",
       "      <td>male</td>\n",
       "      <td>group A</td>\n",
       "      <td>high school</td>\n",
       "      <td>standard</td>\n",
       "      <td>completed</td>\n",
       "      <td>67</td>\n",
       "      <td>67</td>\n",
       "      <td>63</td>\n",
       "    </tr>\n",
       "    <tr>\n",
       "      <th>1</th>\n",
       "      <td>female</td>\n",
       "      <td>group D</td>\n",
       "      <td>some high school</td>\n",
       "      <td>free/reduced</td>\n",
       "      <td>none</td>\n",
       "      <td>40</td>\n",
       "      <td>59</td>\n",
       "      <td>55</td>\n",
       "    </tr>\n",
       "    <tr>\n",
       "      <th>2</th>\n",
       "      <td>male</td>\n",
       "      <td>group E</td>\n",
       "      <td>some college</td>\n",
       "      <td>free/reduced</td>\n",
       "      <td>none</td>\n",
       "      <td>59</td>\n",
       "      <td>60</td>\n",
       "      <td>50</td>\n",
       "    </tr>\n",
       "    <tr>\n",
       "      <th>3</th>\n",
       "      <td>male</td>\n",
       "      <td>group B</td>\n",
       "      <td>high school</td>\n",
       "      <td>standard</td>\n",
       "      <td>none</td>\n",
       "      <td>77</td>\n",
       "      <td>78</td>\n",
       "      <td>68</td>\n",
       "    </tr>\n",
       "    <tr>\n",
       "      <th>4</th>\n",
       "      <td>male</td>\n",
       "      <td>group E</td>\n",
       "      <td>associate's degree</td>\n",
       "      <td>standard</td>\n",
       "      <td>completed</td>\n",
       "      <td>78</td>\n",
       "      <td>73</td>\n",
       "      <td>68</td>\n",
       "    </tr>\n",
       "    <tr>\n",
       "      <th>5</th>\n",
       "      <td>female</td>\n",
       "      <td>group D</td>\n",
       "      <td>high school</td>\n",
       "      <td>standard</td>\n",
       "      <td>none</td>\n",
       "      <td>63</td>\n",
       "      <td>77</td>\n",
       "      <td>76</td>\n",
       "    </tr>\n",
       "  </tbody>\n",
       "</table>\n",
       "</div>"
      ],
      "text/plain": [
       "   gender race/ethnicity parental level of education         lunch  \\\n",
       "0    male        group A                 high school      standard   \n",
       "1  female        group D            some high school  free/reduced   \n",
       "2    male        group E                some college  free/reduced   \n",
       "3    male        group B                 high school      standard   \n",
       "4    male        group E          associate's degree      standard   \n",
       "5  female        group D                 high school      standard   \n",
       "\n",
       "  test preparation course  math score  reading score  writing score  \n",
       "0               completed          67             67             63  \n",
       "1                    none          40             59             55  \n",
       "2                    none          59             60             50  \n",
       "3                    none          77             78             68  \n",
       "4               completed          78             73             68  \n",
       "5                    none          63             77             76  "
      ]
     },
     "execution_count": 3,
     "metadata": {},
     "output_type": "execute_result"
    }
   ],
   "source": [
    "df.loc[:5]"
   ]
  },
  {
   "cell_type": "code",
   "execution_count": 4,
   "id": "f2e0b225",
   "metadata": {},
   "outputs": [
    {
     "data": {
      "text/html": [
       "<div>\n",
       "<style scoped>\n",
       "    .dataframe tbody tr th:only-of-type {\n",
       "        vertical-align: middle;\n",
       "    }\n",
       "\n",
       "    .dataframe tbody tr th {\n",
       "        vertical-align: top;\n",
       "    }\n",
       "\n",
       "    .dataframe thead th {\n",
       "        text-align: right;\n",
       "    }\n",
       "</style>\n",
       "<table border=\"1\" class=\"dataframe\">\n",
       "  <thead>\n",
       "    <tr style=\"text-align: right;\">\n",
       "      <th></th>\n",
       "      <th>gender</th>\n",
       "      <th>parental_level_of_education</th>\n",
       "      <th>lunch</th>\n",
       "      <th>test_preparation_course</th>\n",
       "      <th>math_score</th>\n",
       "      <th>reading_score</th>\n",
       "      <th>writing_score</th>\n",
       "    </tr>\n",
       "  </thead>\n",
       "  <tbody>\n",
       "    <tr>\n",
       "      <th>0</th>\n",
       "      <td>male</td>\n",
       "      <td>high school</td>\n",
       "      <td>standard</td>\n",
       "      <td>completed</td>\n",
       "      <td>67</td>\n",
       "      <td>67</td>\n",
       "      <td>63</td>\n",
       "    </tr>\n",
       "    <tr>\n",
       "      <th>1</th>\n",
       "      <td>female</td>\n",
       "      <td>some high school</td>\n",
       "      <td>free/reduced</td>\n",
       "      <td>none</td>\n",
       "      <td>40</td>\n",
       "      <td>59</td>\n",
       "      <td>55</td>\n",
       "    </tr>\n",
       "    <tr>\n",
       "      <th>2</th>\n",
       "      <td>male</td>\n",
       "      <td>some college</td>\n",
       "      <td>free/reduced</td>\n",
       "      <td>none</td>\n",
       "      <td>59</td>\n",
       "      <td>60</td>\n",
       "      <td>50</td>\n",
       "    </tr>\n",
       "    <tr>\n",
       "      <th>3</th>\n",
       "      <td>male</td>\n",
       "      <td>high school</td>\n",
       "      <td>standard</td>\n",
       "      <td>none</td>\n",
       "      <td>77</td>\n",
       "      <td>78</td>\n",
       "      <td>68</td>\n",
       "    </tr>\n",
       "    <tr>\n",
       "      <th>4</th>\n",
       "      <td>male</td>\n",
       "      <td>associate's degree</td>\n",
       "      <td>standard</td>\n",
       "      <td>completed</td>\n",
       "      <td>78</td>\n",
       "      <td>73</td>\n",
       "      <td>68</td>\n",
       "    </tr>\n",
       "    <tr>\n",
       "      <th>...</th>\n",
       "      <td>...</td>\n",
       "      <td>...</td>\n",
       "      <td>...</td>\n",
       "      <td>...</td>\n",
       "      <td>...</td>\n",
       "      <td>...</td>\n",
       "      <td>...</td>\n",
       "    </tr>\n",
       "    <tr>\n",
       "      <th>995</th>\n",
       "      <td>male</td>\n",
       "      <td>high school</td>\n",
       "      <td>standard</td>\n",
       "      <td>none</td>\n",
       "      <td>73</td>\n",
       "      <td>70</td>\n",
       "      <td>65</td>\n",
       "    </tr>\n",
       "    <tr>\n",
       "      <th>996</th>\n",
       "      <td>male</td>\n",
       "      <td>associate's degree</td>\n",
       "      <td>free/reduced</td>\n",
       "      <td>completed</td>\n",
       "      <td>85</td>\n",
       "      <td>91</td>\n",
       "      <td>92</td>\n",
       "    </tr>\n",
       "    <tr>\n",
       "      <th>997</th>\n",
       "      <td>female</td>\n",
       "      <td>some high school</td>\n",
       "      <td>free/reduced</td>\n",
       "      <td>none</td>\n",
       "      <td>32</td>\n",
       "      <td>35</td>\n",
       "      <td>41</td>\n",
       "    </tr>\n",
       "    <tr>\n",
       "      <th>998</th>\n",
       "      <td>female</td>\n",
       "      <td>some college</td>\n",
       "      <td>standard</td>\n",
       "      <td>none</td>\n",
       "      <td>73</td>\n",
       "      <td>74</td>\n",
       "      <td>82</td>\n",
       "    </tr>\n",
       "    <tr>\n",
       "      <th>999</th>\n",
       "      <td>male</td>\n",
       "      <td>some college</td>\n",
       "      <td>standard</td>\n",
       "      <td>completed</td>\n",
       "      <td>65</td>\n",
       "      <td>60</td>\n",
       "      <td>62</td>\n",
       "    </tr>\n",
       "  </tbody>\n",
       "</table>\n",
       "<p>1000 rows × 7 columns</p>\n",
       "</div>"
      ],
      "text/plain": [
       "     gender parental_level_of_education         lunch test_preparation_course  \\\n",
       "0      male                 high school      standard               completed   \n",
       "1    female            some high school  free/reduced                    none   \n",
       "2      male                some college  free/reduced                    none   \n",
       "3      male                 high school      standard                    none   \n",
       "4      male          associate's degree      standard               completed   \n",
       "..      ...                         ...           ...                     ...   \n",
       "995    male                 high school      standard                    none   \n",
       "996    male          associate's degree  free/reduced               completed   \n",
       "997  female            some high school  free/reduced                    none   \n",
       "998  female                some college      standard                    none   \n",
       "999    male                some college      standard               completed   \n",
       "\n",
       "     math_score  reading_score  writing_score  \n",
       "0            67             67             63  \n",
       "1            40             59             55  \n",
       "2            59             60             50  \n",
       "3            77             78             68  \n",
       "4            78             73             68  \n",
       "..          ...            ...            ...  \n",
       "995          73             70             65  \n",
       "996          85             91             92  \n",
       "997          32             35             41  \n",
       "998          73             74             82  \n",
       "999          65             60             62  \n",
       "\n",
       "[1000 rows x 7 columns]"
      ]
     },
     "execution_count": 4,
     "metadata": {},
     "output_type": "execute_result"
    }
   ],
   "source": [
    "# Removing irrelevant column\n",
    "df.drop([\"race/ethnicity\"], axis=1, inplace=True)\n",
    "# Renaming column for eaiser syntax\n",
    "df.columns = ['gender', 'parental_level_of_education', 'lunch','test_preparation_course', 'math_score', 'reading_score', 'writing_score']\n",
    "df"
   ]
  },
  {
   "cell_type": "markdown",
   "id": "0c4a5817",
   "metadata": {},
   "source": [
    "### Math with average score of 66"
   ]
  },
  {
   "cell_type": "code",
   "execution_count": 5,
   "id": "51a2a35d",
   "metadata": {},
   "outputs": [
    {
     "name": "stdout",
     "output_type": "stream",
     "text": [
      "66\n"
     ]
    },
    {
     "data": {
      "text/plain": [
       "<AxesSubplot:>"
      ]
     },
     "execution_count": 5,
     "metadata": {},
     "output_type": "execute_result"
    },
    {
     "data": {
      "image/png": "[encoded data removed]",
      "text/plain": [
       "<Figure size 432x288 with 1 Axes>"
      ]
     },
     "metadata": {
      "needs_background": "light"
     },
     "output_type": "display_data"
    }
   ],
   "source": [
    "total = 0\n",
    "for i in df[\"math_score\"]:\n",
    "    total += i\n",
    "average = total / len(df[\"math_score\"])\n",
    "print(int(round(average,0)))\n",
    "df[\"math_score\"].hist(bins=20)"
   ]
  },
  {
   "cell_type": "markdown",
   "id": "7f6fd2aa",
   "metadata": {},
   "source": [
    "### Reading with average score of 69"
   ]
  },
  {
   "cell_type": "code",
   "execution_count": 6,
   "id": "180a52f7",
   "metadata": {},
   "outputs": [
    {
     "name": "stdout",
     "output_type": "stream",
     "text": [
      "69\n"
     ]
    },
    {
     "data": {
      "text/plain": [
       "<AxesSubplot:>"
      ]
     },
     "execution_count": 6,
     "metadata": {},
     "output_type": "execute_result"
    },
    {
     "data": {
      "image/png": "[encoded data removed]",
      "text/plain": [
       "<Figure size 432x288 with 1 Axes>"
      ]
     },
     "metadata": {
      "needs_background": "light"
     },
     "output_type": "display_data"
    }
   ],
   "source": [
    "total = 0\n",
    "for i in df[\"reading_score\"]:\n",
    "    total += i\n",
    "average = total / len(df[\"reading_score\"])\n",
    "print(int(round(average,0)))\n",
    "df[\"reading_score\"].hist(bins=20, color='r')"
   ]
  },
  {
   "cell_type": "markdown",
   "id": "322a445c",
   "metadata": {},
   "source": [
    "###  Writing with average score of 67"
   ]
  },
  {
   "cell_type": "code",
   "execution_count": 7,
   "id": "52fea269",
   "metadata": {},
   "outputs": [
    {
     "name": "stdout",
     "output_type": "stream",
     "text": [
      "68\n"
     ]
    },
    {
     "data": {
      "text/plain": [
       "<AxesSubplot:>"
      ]
     },
     "execution_count": 7,
     "metadata": {},
     "output_type": "execute_result"
    },
    {
     "data": {
      "image/png": "[encoded data removed]",
      "text/plain": [
       "<Figure size 432x288 with 1 Axes>"
      ]
     },
     "metadata": {
      "needs_background": "light"
     },
     "output_type": "display_data"
    }
   ],
   "source": [
    "total = 0\n",
    "for i in df[\"writing_score\"]:\n",
    "    total += i\n",
    "average = total / len(df[\"writing_score\"])\n",
    "print(int(round(average,0)))\n",
    "df[\"writing_score\"].hist(bins=20, color = 'g')"
   ]
  },
  {
   "cell_type": "markdown",
   "id": "bd851c99",
   "metadata": {},
   "source": [
    "#### Looking at the graph, the average grade for math, reading, and writing seems to be not spread out, meaning not much of difference as well as the plot maintain the similar shape among three plots."
   ]
  },
  {
   "cell_type": "markdown",
   "id": "62364465",
   "metadata": {},
   "source": [
    "## Setting up male and female's average score\n",
    "#### Added a new dataframe of each male and female with added column for average score for each entry."
   ]
  },
  {
   "cell_type": "code",
   "execution_count": 8,
   "id": "ae3b7a00",
   "metadata": {
    "scrolled": false
   },
   "outputs": [],
   "source": [
    "#Creating new dataframes filtering male/female with average score added\n",
    "male_df=df[df.gender == \"male\"]\n",
    "male_df[\"male_average\"] = round((male_df[\"math_score\"] + male_df[\"reading_score\"] + male_df[\"writing_score\"])/3,0)\n",
    "male_df.male_average=male_df.male_average.astype(int)\n",
    "female_df=(df[df.gender == \"female\"])\n",
    "female_df[\"female_average\"] = round((female_df[\"math_score\"] + female_df[\"reading_score\"] + female_df[\"writing_score\"])/3,0)\n",
    "female_df.female_average=female_df.female_average.astype(int)"
   ]
  },
  {
   "cell_type": "code",
   "execution_count": 9,
   "id": "d4e433a6",
   "metadata": {
    "scrolled": false
   },
   "outputs": [
    {
     "data": {
      "text/html": [
       "<div>\n",
       "<style scoped>\n",
       "    .dataframe tbody tr th:only-of-type {\n",
       "        vertical-align: middle;\n",
       "    }\n",
       "\n",
       "    .dataframe tbody tr th {\n",
       "        vertical-align: top;\n",
       "    }\n",
       "\n",
       "    .dataframe thead th {\n",
       "        text-align: right;\n",
       "    }\n",
       "</style>\n",
       "<table border=\"1\" class=\"dataframe\">\n",
       "  <thead>\n",
       "    <tr style=\"text-align: right;\">\n",
       "      <th></th>\n",
       "      <th>gender</th>\n",
       "      <th>parental_level_of_education</th>\n",
       "      <th>lunch</th>\n",
       "      <th>test_preparation_course</th>\n",
       "      <th>math_score</th>\n",
       "      <th>reading_score</th>\n",
       "      <th>writing_score</th>\n",
       "      <th>male_average</th>\n",
       "    </tr>\n",
       "  </thead>\n",
       "  <tbody>\n",
       "    <tr>\n",
       "      <th>0</th>\n",
       "      <td>male</td>\n",
       "      <td>high school</td>\n",
       "      <td>standard</td>\n",
       "      <td>completed</td>\n",
       "      <td>67</td>\n",
       "      <td>67</td>\n",
       "      <td>63</td>\n",
       "      <td>66</td>\n",
       "    </tr>\n",
       "    <tr>\n",
       "      <th>2</th>\n",
       "      <td>male</td>\n",
       "      <td>some college</td>\n",
       "      <td>free/reduced</td>\n",
       "      <td>none</td>\n",
       "      <td>59</td>\n",
       "      <td>60</td>\n",
       "      <td>50</td>\n",
       "      <td>56</td>\n",
       "    </tr>\n",
       "    <tr>\n",
       "      <th>3</th>\n",
       "      <td>male</td>\n",
       "      <td>high school</td>\n",
       "      <td>standard</td>\n",
       "      <td>none</td>\n",
       "      <td>77</td>\n",
       "      <td>78</td>\n",
       "      <td>68</td>\n",
       "      <td>74</td>\n",
       "    </tr>\n",
       "    <tr>\n",
       "      <th>4</th>\n",
       "      <td>male</td>\n",
       "      <td>associate's degree</td>\n",
       "      <td>standard</td>\n",
       "      <td>completed</td>\n",
       "      <td>78</td>\n",
       "      <td>73</td>\n",
       "      <td>68</td>\n",
       "      <td>73</td>\n",
       "    </tr>\n",
       "    <tr>\n",
       "      <th>7</th>\n",
       "      <td>male</td>\n",
       "      <td>some college</td>\n",
       "      <td>standard</td>\n",
       "      <td>completed</td>\n",
       "      <td>93</td>\n",
       "      <td>88</td>\n",
       "      <td>84</td>\n",
       "      <td>88</td>\n",
       "    </tr>\n",
       "  </tbody>\n",
       "</table>\n",
       "</div>"
      ],
      "text/plain": [
       "  gender parental_level_of_education         lunch test_preparation_course  \\\n",
       "0   male                 high school      standard               completed   \n",
       "2   male                some college  free/reduced                    none   \n",
       "3   male                 high school      standard                    none   \n",
       "4   male          associate's degree      standard               completed   \n",
       "7   male                some college      standard               completed   \n",
       "\n",
       "   math_score  reading_score  writing_score  male_average  \n",
       "0          67             67             63            66  \n",
       "2          59             60             50            56  \n",
       "3          77             78             68            74  \n",
       "4          78             73             68            73  \n",
       "7          93             88             84            88  "
      ]
     },
     "execution_count": 9,
     "metadata": {},
     "output_type": "execute_result"
    }
   ],
   "source": [
    "male_df.head()"
   ]
  },
  {
   "cell_type": "code",
   "execution_count": 10,
   "id": "71bdb59a",
   "metadata": {},
   "outputs": [
    {
     "data": {
      "text/html": [
       "<div>\n",
       "<style scoped>\n",
       "    .dataframe tbody tr th:only-of-type {\n",
       "        vertical-align: middle;\n",
       "    }\n",
       "\n",
       "    .dataframe tbody tr th {\n",
       "        vertical-align: top;\n",
       "    }\n",
       "\n",
       "    .dataframe thead th {\n",
       "        text-align: right;\n",
       "    }\n",
       "</style>\n",
       "<table border=\"1\" class=\"dataframe\">\n",
       "  <thead>\n",
       "    <tr style=\"text-align: right;\">\n",
       "      <th></th>\n",
       "      <th>gender</th>\n",
       "      <th>parental_level_of_education</th>\n",
       "      <th>lunch</th>\n",
       "      <th>test_preparation_course</th>\n",
       "      <th>math_score</th>\n",
       "      <th>reading_score</th>\n",
       "      <th>writing_score</th>\n",
       "      <th>female_average</th>\n",
       "    </tr>\n",
       "  </thead>\n",
       "  <tbody>\n",
       "    <tr>\n",
       "      <th>1</th>\n",
       "      <td>female</td>\n",
       "      <td>some high school</td>\n",
       "      <td>free/reduced</td>\n",
       "      <td>none</td>\n",
       "      <td>40</td>\n",
       "      <td>59</td>\n",
       "      <td>55</td>\n",
       "      <td>51</td>\n",
       "    </tr>\n",
       "    <tr>\n",
       "      <th>5</th>\n",
       "      <td>female</td>\n",
       "      <td>high school</td>\n",
       "      <td>standard</td>\n",
       "      <td>none</td>\n",
       "      <td>63</td>\n",
       "      <td>77</td>\n",
       "      <td>76</td>\n",
       "      <td>72</td>\n",
       "    </tr>\n",
       "    <tr>\n",
       "      <th>6</th>\n",
       "      <td>female</td>\n",
       "      <td>bachelor's degree</td>\n",
       "      <td>standard</td>\n",
       "      <td>none</td>\n",
       "      <td>62</td>\n",
       "      <td>59</td>\n",
       "      <td>63</td>\n",
       "      <td>61</td>\n",
       "    </tr>\n",
       "    <tr>\n",
       "      <th>11</th>\n",
       "      <td>female</td>\n",
       "      <td>high school</td>\n",
       "      <td>standard</td>\n",
       "      <td>completed</td>\n",
       "      <td>80</td>\n",
       "      <td>87</td>\n",
       "      <td>90</td>\n",
       "      <td>86</td>\n",
       "    </tr>\n",
       "    <tr>\n",
       "      <th>17</th>\n",
       "      <td>female</td>\n",
       "      <td>associate's degree</td>\n",
       "      <td>standard</td>\n",
       "      <td>completed</td>\n",
       "      <td>54</td>\n",
       "      <td>62</td>\n",
       "      <td>65</td>\n",
       "      <td>60</td>\n",
       "    </tr>\n",
       "  </tbody>\n",
       "</table>\n",
       "</div>"
      ],
      "text/plain": [
       "    gender parental_level_of_education         lunch test_preparation_course  \\\n",
       "1   female            some high school  free/reduced                    none   \n",
       "5   female                 high school      standard                    none   \n",
       "6   female           bachelor's degree      standard                    none   \n",
       "11  female                 high school      standard               completed   \n",
       "17  female          associate's degree      standard               completed   \n",
       "\n",
       "    math_score  reading_score  writing_score  female_average  \n",
       "1           40             59             55              51  \n",
       "5           63             77             76              72  \n",
       "6           62             59             63              61  \n",
       "11          80             87             90              86  \n",
       "17          54             62             65              60  "
      ]
     },
     "execution_count": 10,
     "metadata": {},
     "output_type": "execute_result"
    }
   ],
   "source": [
    "female_df.head()"
   ]
  },
  {
   "cell_type": "markdown",
   "id": "04c9fed0",
   "metadata": {},
   "source": [
    "####  Visualizing male average score vs female average score. "
   ]
  },
  {
   "cell_type": "code",
   "execution_count": 11,
   "id": "b18e1ebf",
   "metadata": {
    "scrolled": true
   },
   "outputs": [
    {
     "data": {
      "text/plain": [
       "<AxesSubplot:>"
      ]
     },
     "execution_count": 11,
     "metadata": {},
     "output_type": "execute_result"
    },
    {
     "data": {
      "image/png": "[encoded data removed]",
      "text/plain": [
       "<Figure size 432x288 with 1 Axes>"
      ]
     },
     "metadata": {},
     "output_type": "display_data"
    }
   ],
   "source": [
    "combined_df = pd.DataFrame({\"Male Average Score\": male_df[\"male_average\"],\n",
    "                            \"Female Average Score\": female_df[\"female_average\"]})\n",
    "sns.set_style('white')\n",
    "sns.boxplot(data=combined_df, palette = 'flare')\n"
   ]
  },
  {
   "cell_type": "code",
   "execution_count": 12,
   "id": "71ba76b8",
   "metadata": {},
   "outputs": [
    {
     "name": "stdout",
     "output_type": "stream",
     "text": [
      "67\n",
      "69\n"
     ]
    }
   ],
   "source": [
    "m_sum = 0\n",
    "for i in male_df[\"male_average\"]:\n",
    "    m_sum = m_sum + i\n",
    "m_average = m_sum/len(male_df)\n",
    "\n",
    "f_sum = 0\n",
    "for i in female_df[\"female_average\"]:\n",
    "    f_sum = f_sum + i\n",
    "f_average = f_sum/len(female_df)\n",
    "\n",
    "print(int(round(m_average,0)))\n",
    "print(int(round(f_average,0)))"
   ]
  },
  {
   "cell_type": "markdown",
   "id": "1fe49c81",
   "metadata": {},
   "source": [
    "#### Above is the visualized comparison of average scores of male and female. Male with average score of 67 and female with average score of 69. Number-wise, it is close, but you can see that female tops off male score in the graph. You can see that overall female average score is higher than male average score."
   ]
  },
  {
   "cell_type": "code",
   "execution_count": 13,
   "id": "f19ff5c3",
   "metadata": {},
   "outputs": [
    {
     "data": {
      "image/png": "[encoded data removed]",
      "text/plain": [
       "<Figure size 720x504 with 1 Axes>"
      ]
     },
     "metadata": {},
     "output_type": "display_data"
    }
   ],
   "source": [
    "# The line bewlow prints out unique degree in this column to make sure I got every degree type dialed in.\n",
    "# print(df[\"parental_level_of_education\"].unique())\n",
    "high_df=df[df.parental_level_of_education == \"high school\"]\n",
    "some_high_df=df[df.parental_level_of_education == \"some high school\"]\n",
    "some_college_df = df[df.parental_level_of_education == \"some college\"]\n",
    "associate_df = df[df.parental_level_of_education == \"associate's degree\"]\n",
    "bachelor_df = df[df.parental_level_of_education == \"bachelor's degree\"]\n",
    "master_df = df[df.parental_level_of_education == \"master's degree\"]\n",
    "pie_data = [len(high_df), len(some_high_df), len(some_college_df), len(associate_df), len(bachelor_df), len(master_df)]\n",
    "clues = [\"High School\", \"some high school\", \"Some College\", \"Associate's Degree\", \"Bachelor's Degree\", \"Master's Degree\"]\n",
    "fig = plt.figure(figsize=(10,7))\n",
    "plt.pie(pie_data, labels = clues, autopct='%1.1f%%')\n",
    "plt.title('Parental Level of Education')\n",
    "plt.show()"
   ]
  },
  {
   "cell_type": "markdown",
   "id": "26369895",
   "metadata": {},
   "source": [
    "#### The graph above shows the demographic of students' parental level of education. It is almost split even widely, parentel education of bachelor's and master's degree being shy of around 10% each."
   ]
  },
  {
   "cell_type": "code",
   "execution_count": 14,
   "id": "ab105d7e",
   "metadata": {
    "scrolled": true
   },
   "outputs": [
    {
     "data": {
      "image/png": "[encoded data removed]",
      "text/plain": [
       "<Figure size 432x288 with 1 Axes>"
      ]
     },
     "metadata": {},
     "output_type": "display_data"
    }
   ],
   "source": [
    "high_df[\"average\"] = round((high_df[\"math_score\"] + high_df[\"reading_score\"] + high_df[\"writing_score\"])/3,0)\n",
    "high_sum = 0\n",
    "for i in high_df[\"average\"]:\n",
    "    high_sum = high_sum + i\n",
    "high_average = high_sum/len(high_df)\n",
    "high_average = int(round(high_average,0))\n",
    "\n",
    "some_high_df[\"average\"] = round((some_high_df[\"math_score\"] + some_high_df[\"reading_score\"] + some_high_df[\"writing_score\"])/3,0)\n",
    "some_high_sum = 0\n",
    "for i in some_high_df[\"average\"]:\n",
    "    some_high_sum = some_high_sum + i\n",
    "some_high_average = some_high_sum/len(some_high_df)\n",
    "some_high_average = int(round(some_high_average,0))\n",
    "\n",
    "some_college_df[\"average\"] = round((some_college_df[\"math_score\"] + some_college_df[\"reading_score\"] + some_college_df[\"writing_score\"])/3,0)\n",
    "some_college_sum = 0\n",
    "for i in some_college_df[\"average\"]:\n",
    "    some_college_sum = some_college_sum + i\n",
    "some_college_average = some_college_sum/len(some_college_df)\n",
    "some_college_average = int(round(some_college_average,0))\n",
    "\n",
    "associate_df[\"average\"] = round((associate_df[\"math_score\"] + associate_df[\"reading_score\"] + associate_df[\"writing_score\"])/3,0)\n",
    "associate_sum = 0\n",
    "for i in associate_df[\"average\"]:\n",
    "    associate_sum = associate_sum + i\n",
    "associate_average = associate_sum/len(associate_df)\n",
    "associate_average = int(round(associate_average,0))\n",
    "\n",
    "bachelor_df[\"average\"] = round((bachelor_df[\"math_score\"] + bachelor_df[\"reading_score\"] + bachelor_df[\"writing_score\"])/3,0)\n",
    "bachelor_sum = 0\n",
    "for i in bachelor_df[\"average\"]:\n",
    "    bachelor_sum = bachelor_sum + i\n",
    "bachelor_average = bachelor_sum/len(bachelor_df)\n",
    "bachelor_average = int(round(bachelor_average,0))\n",
    "\n",
    "master_df[\"average\"] = round((master_df[\"math_score\"] + master_df[\"reading_score\"] + master_df[\"writing_score\"])/3,0)\n",
    "master_sum = 0\n",
    "for i in master_df[\"average\"]:\n",
    "    master_sum = master_sum + i\n",
    "master_average = master_sum/len(master_df)\n",
    "master_average = int(round(master_average,0))\n",
    "\n",
    "fig = plt.figure()\n",
    "ax = fig.add_axes([0,0,1,1])\n",
    "edu_level = [\"Some High School\", \"High School\", \"Some College\", \"Associate's\", \"Bachelor's\", \"Master's\"]\n",
    "edu_average = [some_high_average, high_average, some_college_average, associate_average,  bachelor_average, master_average]\n",
    "ax.bar(edu_level,edu_average)\n",
    "plt.title(\"Average Score of Students' Parental Education Level\")\n",
    "plt.show()"
   ]
  },
  {
   "cell_type": "markdown",
   "id": "05f8a51b",
   "metadata": {},
   "source": [
    "#### Above is a visualized bar plot of students' average score by parental education level. As you can see, the more student's parental education level rise, the sudent's average score also increases, it is relative to another. Below is more detailed plot of same dataset. It's not a big jump per parental education level, but the plot clearly shows that students with higher parental education have a chance of getting higher result on the test.\n"
   ]
  },
  {
   "cell_type": "code",
   "execution_count": 15,
   "id": "39d082bf",
   "metadata": {},
   "outputs": [
    {
     "data": {
      "text/plain": [
       "<AxesSubplot:>"
      ]
     },
     "execution_count": 15,
     "metadata": {},
     "output_type": "execute_result"
    },
    {
     "data": {
      "image/png": "[encoded data removed]",
      "text/plain": [
       "<Figure size 432x288 with 1 Axes>"
      ]
     },
     "metadata": {},
     "output_type": "display_data"
    }
   ],
   "source": [
    "combined_edu_df = pd.DataFrame({\"Some High School\": some_high_df[\"average\"],\n",
    "                                \"High School\": high_df[\"average\"],\n",
    "                                \"Some College\": some_college_df[\"average\"],\n",
    "                                \"Associate's\": associate_df[\"average\"],\n",
    "                                \"Bachelor's\": bachelor_df[\"average\"],\n",
    "                                \"Master's\": master_df[\"average\"]})\n",
    "sns.set_style('white')\n",
    "sns.boxplot(data=combined_edu_df, palette = 'light:#5A9')"
   ]
  },
  {
   "cell_type": "code",
   "execution_count": 16,
   "id": "b106d711",
   "metadata": {
    "scrolled": false
   },
   "outputs": [
    {
     "data": {
      "image/png": "[encoded data removed]",
      "text/plain": [
       "<Figure size 432x288 with 1 Axes>"
      ]
     },
     "metadata": {},
     "output_type": "display_data"
    }
   ],
   "source": [
    "some_high_comp_df=some_high_df[df.test_preparation_course == \"completed\"]\n",
    "some_high_none_df=some_high_df[df.test_preparation_course == \"none\"]\n",
    "high_comp_df=high_df[df.test_preparation_course == \"completed\"]\n",
    "high_none_df=high_df[df.test_preparation_course == \"none\"]\n",
    "some_college_comp_df=some_college_df[df.test_preparation_course == \"completed\"]\n",
    "some_college_none_df=some_college_df[df.test_preparation_course == \"none\"]\n",
    "associate_comp_df=associate_df[df.test_preparation_course == \"completed\"]\n",
    "associate_none_df=associate_df[df.test_preparation_course == \"none\"]\n",
    "bachelor_comp_df=bachelor_df[df.test_preparation_course == \"completed\"]\n",
    "bachelor_none_df=bachelor_df[df.test_preparation_course == \"none\"]\n",
    "master_comp_df=master_df[df.test_preparation_course == \"completed\"]\n",
    "master_none_df=master_df[df.test_preparation_course == \"none\"]\n",
    "\n",
    "labels = [\"Some High School\", \"High School\", \"Some College\", \"Associate's\", \"Bachelor's\", \"Master's\"]\n",
    "prepped = [int(some_high_none_df[\"average\"].mean()), int(high_none_df[\"average\"].mean()), int(some_college_none_df[\"average\"].mean()), int(associate_none_df[\"average\"].mean()), int(bachelor_none_df[\"average\"].mean()), int(master_none_df[\"average\"].mean())]\n",
    "not_prepped = [int(some_high_comp_df[\"average\"].mean()), int(high_comp_df[\"average\"].mean()), int(some_college_comp_df[\"average\"].mean()), int(associate_comp_df[\"average\"].mean()), int(bachelor_comp_df[\"average\"].mean()), int(master_comp_df[\"average\"].mean())]\n",
    "x = np.arange(len(labels))\n",
    "width = 0.4\n",
    "fig, ax = plt.subplots()\n",
    "rec1 = ax.bar(x - width/2, prepped , width, label = \"Not prepared for the tests\")\n",
    "rec2 = ax.bar(x + width/2, not_prepped , width, label = \"Prepared for the tests\")\n",
    "ax.set_ylabel('Average Scores')\n",
    "ax.set_title('Scores by Preparation and Parental Education Level')\n",
    "ax.set_xticks(x, labels)\n",
    "ax.legend()\n",
    "\n",
    "ax.bar_label(rec1, padding=1)\n",
    "ax.bar_label(rec2, padding=1)\n",
    "\n",
    "fig.tight_layout()\n",
    "\n",
    "plt.show()\n",
    "\n"
   ]
  },
  {
   "cell_type": "markdown",
   "id": "c29945d1",
   "metadata": {},
   "source": [
    "#### The graph above shows that preparing for a test is always important and crucial. By analyzing this graph, we can learn that studying for the test can improve the score as high as full letter grade.\n",
    "\n"
   ]
  },
  {
   "cell_type": "markdown",
   "id": "4e3ac530",
   "metadata": {},
   "source": [
    "# Conclusion\n",
    "### From the above information, I was able to discern that the longevity of students' parents' education correlates with a higher score on the tests. The data above also suggests that females scored higher on the test overall, surpassing males's score. Above all, one of the most  interesting takeaways from this dataset is that actually preparing for the tests helped to increase all levels of education's scores. Even demographics' parents with only  high school education were able to score as high as someone with master's degree who did not completed the test preperation course. "
   ]
  }
 ],
 "metadata": {
  "kernelspec": {
   "display_name": "Python 3 (ipykernel)",
   "language": "python",
   "name": "python3"
  },
  "language_info": {
   "codemirror_mode": {
    "name": "ipython",
    "version": 3
   },
   "file_extension": ".py",
   "mimetype": "text/x-python",
   "name": "python",
   "nbconvert_exporter": "python",
   "pygments_lexer": "ipython3",
   "version": "3.9.12"
  }
 },
 "nbformat": 4,
 "nbformat_minor": 5
}
